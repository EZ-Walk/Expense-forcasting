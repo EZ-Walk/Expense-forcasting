{
 "cells": [
  {
   "cell_type": "code",
   "execution_count": 31,
   "metadata": {},
   "outputs": [
    {
     "name": "stdout",
     "output_type": "stream",
     "text": [
      "2.4.0\n",
      "1.19.5\n"
     ]
    }
   ],
   "source": [
    "import tensorflow as tf\n",
    "import numpy as np\n",
    "import pandas as pd\n",
    "\n",
    "print(tf.__version__)\n",
    "print(np.__version__)"
   ]
  },
  {
   "cell_type": "markdown",
   "metadata": {},
   "source": [
    "# Data Cleaning"
   ]
  },
  {
   "cell_type": "code",
   "execution_count": 3,
   "metadata": {},
   "outputs": [
    {
     "name": "stdout",
     "output_type": "stream",
     "text": [
      "(3509, 8)\n"
     ]
    },
    {
     "data": {
      "text/html": [
       "<div>\n",
       "<style scoped>\n",
       "    .dataframe tbody tr th:only-of-type {\n",
       "        vertical-align: middle;\n",
       "    }\n",
       "\n",
       "    .dataframe tbody tr th {\n",
       "        vertical-align: top;\n",
       "    }\n",
       "\n",
       "    .dataframe thead th {\n",
       "        text-align: right;\n",
       "    }\n",
       "</style>\n",
       "<table border=\"1\" class=\"dataframe\">\n",
       "  <thead>\n",
       "    <tr style=\"text-align: right;\">\n",
       "      <th></th>\n",
       "      <th>Account Number</th>\n",
       "      <th>Post Date</th>\n",
       "      <th>Check</th>\n",
       "      <th>Description</th>\n",
       "      <th>Debit</th>\n",
       "      <th>Credit</th>\n",
       "      <th>Status</th>\n",
       "      <th>Balance</th>\n",
       "    </tr>\n",
       "  </thead>\n",
       "  <tbody>\n",
       "    <tr>\n",
       "      <th>0</th>\n",
       "      <td>443091309</td>\n",
       "      <td>4/27/2024</td>\n",
       "      <td>NaN</td>\n",
       "      <td>GITHUB, INC.       +18774484820   CAUS</td>\n",
       "      <td>10.00</td>\n",
       "      <td>NaN</td>\n",
       "      <td>Pending</td>\n",
       "      <td>NaN</td>\n",
       "    </tr>\n",
       "    <tr>\n",
       "      <th>1</th>\n",
       "      <td>443091309</td>\n",
       "      <td>4/25/2024</td>\n",
       "      <td>NaN</td>\n",
       "      <td>LIME*RIDE          +18885463345   CAUS</td>\n",
       "      <td>4.44</td>\n",
       "      <td>NaN</td>\n",
       "      <td>Pending</td>\n",
       "      <td>NaN</td>\n",
       "    </tr>\n",
       "    <tr>\n",
       "      <th>2</th>\n",
       "      <td>443091309</td>\n",
       "      <td>4/27/2024</td>\n",
       "      <td>NaN</td>\n",
       "      <td>Deposit weekly allowance</td>\n",
       "      <td>NaN</td>\n",
       "      <td>120.0</td>\n",
       "      <td>Posted</td>\n",
       "      <td>116.43</td>\n",
       "    </tr>\n",
       "    <tr>\n",
       "      <th>3</th>\n",
       "      <td>443091309</td>\n",
       "      <td>4/27/2024</td>\n",
       "      <td>NaN</td>\n",
       "      <td>Point Of Sale Withdrawal MASABI_RTD 1600 Blake...</td>\n",
       "      <td>2.70</td>\n",
       "      <td>NaN</td>\n",
       "      <td>Posted</td>\n",
       "      <td>-3.57</td>\n",
       "    </tr>\n",
       "    <tr>\n",
       "      <th>4</th>\n",
       "      <td>443091309</td>\n",
       "      <td>4/27/2024</td>\n",
       "      <td>NaN</td>\n",
       "      <td>Point Of Sale Withdrawal SQ *CURTIS PARK 2532 ...</td>\n",
       "      <td>19.24</td>\n",
       "      <td>NaN</td>\n",
       "      <td>Posted</td>\n",
       "      <td>-0.87</td>\n",
       "    </tr>\n",
       "  </tbody>\n",
       "</table>\n",
       "</div>"
      ],
      "text/plain": [
       "   Account Number  Post Date  Check  \\\n",
       "0       443091309  4/27/2024    NaN   \n",
       "1       443091309  4/25/2024    NaN   \n",
       "2       443091309  4/27/2024    NaN   \n",
       "3       443091309  4/27/2024    NaN   \n",
       "4       443091309  4/27/2024    NaN   \n",
       "\n",
       "                                         Description  Debit  Credit   Status  \\\n",
       "0             GITHUB, INC.       +18774484820   CAUS  10.00     NaN  Pending   \n",
       "1             LIME*RIDE          +18885463345   CAUS   4.44     NaN  Pending   \n",
       "2                           Deposit weekly allowance    NaN   120.0   Posted   \n",
       "3  Point Of Sale Withdrawal MASABI_RTD 1600 Blake...   2.70     NaN   Posted   \n",
       "4  Point Of Sale Withdrawal SQ *CURTIS PARK 2532 ...  19.24     NaN   Posted   \n",
       "\n",
       "   Balance  \n",
       "0      NaN  \n",
       "1      NaN  \n",
       "2   116.43  \n",
       "3    -3.57  \n",
       "4    -0.87  "
      ]
     },
     "execution_count": 3,
     "metadata": {},
     "output_type": "execute_result"
    }
   ],
   "source": [
    "# pull down data from the Expense Tagging repo\n",
    "df = pd.read_csv(\"https://github.com/EZ-Walk/Expense-Tagging/blob/f6b58fbcc1270d6bcdab82873673ee34c6d1e84a/Data/raw/AccountHistory%20(1).csv?raw=true\")\n",
    "print(df.shape)\n",
    "df.head()"
   ]
  },
  {
   "cell_type": "code",
   "execution_count": 4,
   "metadata": {},
   "outputs": [
    {
     "name": "stdout",
     "output_type": "stream",
     "text": [
      "Data shape: (2726, 8)\n"
     ]
    },
    {
     "data": {
      "text/html": [
       "<div>\n",
       "<style scoped>\n",
       "    .dataframe tbody tr th:only-of-type {\n",
       "        vertical-align: middle;\n",
       "    }\n",
       "\n",
       "    .dataframe tbody tr th {\n",
       "        vertical-align: top;\n",
       "    }\n",
       "\n",
       "    .dataframe thead th {\n",
       "        text-align: right;\n",
       "    }\n",
       "</style>\n",
       "<table border=\"1\" class=\"dataframe\">\n",
       "  <thead>\n",
       "    <tr style=\"text-align: right;\">\n",
       "      <th></th>\n",
       "      <th>Account Number</th>\n",
       "      <th>Post Date</th>\n",
       "      <th>Check</th>\n",
       "      <th>Description</th>\n",
       "      <th>Debit</th>\n",
       "      <th>Credit</th>\n",
       "      <th>Status</th>\n",
       "      <th>Balance</th>\n",
       "    </tr>\n",
       "  </thead>\n",
       "  <tbody>\n",
       "    <tr>\n",
       "      <th>3</th>\n",
       "      <td>443091309</td>\n",
       "      <td>4/27/2024</td>\n",
       "      <td>NaN</td>\n",
       "      <td>Point Of Sale Withdrawal MASABI_RTD 1600 Blake...</td>\n",
       "      <td>2.70</td>\n",
       "      <td>NaN</td>\n",
       "      <td>Posted</td>\n",
       "      <td>-3.57</td>\n",
       "    </tr>\n",
       "    <tr>\n",
       "      <th>4</th>\n",
       "      <td>443091309</td>\n",
       "      <td>4/27/2024</td>\n",
       "      <td>NaN</td>\n",
       "      <td>Point Of Sale Withdrawal SQ *CURTIS PARK 2532 ...</td>\n",
       "      <td>19.24</td>\n",
       "      <td>NaN</td>\n",
       "      <td>Posted</td>\n",
       "      <td>-0.87</td>\n",
       "    </tr>\n",
       "    <tr>\n",
       "      <th>5</th>\n",
       "      <td>443091309</td>\n",
       "      <td>4/27/2024</td>\n",
       "      <td>NaN</td>\n",
       "      <td>Point Of Sale Withdrawal SQ *CURTIS PARK 2532 ...</td>\n",
       "      <td>2.75</td>\n",
       "      <td>NaN</td>\n",
       "      <td>Posted</td>\n",
       "      <td>18.37</td>\n",
       "    </tr>\n",
       "    <tr>\n",
       "      <th>6</th>\n",
       "      <td>443091309</td>\n",
       "      <td>4/26/2024</td>\n",
       "      <td>NaN</td>\n",
       "      <td>Point Of Sale Withdrawal TST* FAMOUS ORI 713 E...</td>\n",
       "      <td>10.80</td>\n",
       "      <td>NaN</td>\n",
       "      <td>Posted</td>\n",
       "      <td>21.12</td>\n",
       "    </tr>\n",
       "    <tr>\n",
       "      <th>7</th>\n",
       "      <td>443091309</td>\n",
       "      <td>4/26/2024</td>\n",
       "      <td>NaN</td>\n",
       "      <td>External Withdrawal PAYPAL INSTANT TRANSFER - ...</td>\n",
       "      <td>60.00</td>\n",
       "      <td>NaN</td>\n",
       "      <td>Posted</td>\n",
       "      <td>31.92</td>\n",
       "    </tr>\n",
       "  </tbody>\n",
       "</table>\n",
       "</div>"
      ],
      "text/plain": [
       "   Account Number  Post Date  Check  \\\n",
       "3       443091309  4/27/2024    NaN   \n",
       "4       443091309  4/27/2024    NaN   \n",
       "5       443091309  4/27/2024    NaN   \n",
       "6       443091309  4/26/2024    NaN   \n",
       "7       443091309  4/26/2024    NaN   \n",
       "\n",
       "                                         Description  Debit  Credit  Status  \\\n",
       "3  Point Of Sale Withdrawal MASABI_RTD 1600 Blake...   2.70     NaN  Posted   \n",
       "4  Point Of Sale Withdrawal SQ *CURTIS PARK 2532 ...  19.24     NaN  Posted   \n",
       "5  Point Of Sale Withdrawal SQ *CURTIS PARK 2532 ...   2.75     NaN  Posted   \n",
       "6  Point Of Sale Withdrawal TST* FAMOUS ORI 713 E...  10.80     NaN  Posted   \n",
       "7  External Withdrawal PAYPAL INSTANT TRANSFER - ...  60.00     NaN  Posted   \n",
       "\n",
       "   Balance  \n",
       "3    -3.57  \n",
       "4    -0.87  \n",
       "5    18.37  \n",
       "6    21.12  \n",
       "7    31.92  "
      ]
     },
     "execution_count": 4,
     "metadata": {},
     "output_type": "execute_result"
    }
   ],
   "source": [
    "# keep only rows with Debit!=NaN, Status=Posted, and Account Number == 4430913\n",
    "df = df[df['Debit'].notnull()]\n",
    "df = df[df['Status'] == 'Posted']\n",
    "df = df[df['Account Number'] == 443091309]\n",
    "print('Data shape:', df.shape)\n",
    "df.head()"
   ]
  },
  {
   "cell_type": "code",
   "execution_count": 5,
   "metadata": {},
   "outputs": [
    {
     "name": "stdout",
     "output_type": "stream",
     "text": [
      "Data shape: (2726, 3)\n"
     ]
    },
    {
     "data": {
      "text/html": [
       "<div>\n",
       "<style scoped>\n",
       "    .dataframe tbody tr th:only-of-type {\n",
       "        vertical-align: middle;\n",
       "    }\n",
       "\n",
       "    .dataframe tbody tr th {\n",
       "        vertical-align: top;\n",
       "    }\n",
       "\n",
       "    .dataframe thead th {\n",
       "        text-align: right;\n",
       "    }\n",
       "</style>\n",
       "<table border=\"1\" class=\"dataframe\">\n",
       "  <thead>\n",
       "    <tr style=\"text-align: right;\">\n",
       "      <th></th>\n",
       "      <th>Post Date</th>\n",
       "      <th>Debit</th>\n",
       "      <th>Description</th>\n",
       "    </tr>\n",
       "  </thead>\n",
       "  <tbody>\n",
       "    <tr>\n",
       "      <th>3</th>\n",
       "      <td>4/27/2024</td>\n",
       "      <td>2.70</td>\n",
       "      <td>Point Of Sale Withdrawal MASABI_RTD 1600 Blake...</td>\n",
       "    </tr>\n",
       "    <tr>\n",
       "      <th>4</th>\n",
       "      <td>4/27/2024</td>\n",
       "      <td>19.24</td>\n",
       "      <td>Point Of Sale Withdrawal SQ *CURTIS PARK 2532 ...</td>\n",
       "    </tr>\n",
       "    <tr>\n",
       "      <th>5</th>\n",
       "      <td>4/27/2024</td>\n",
       "      <td>2.75</td>\n",
       "      <td>Point Of Sale Withdrawal SQ *CURTIS PARK 2532 ...</td>\n",
       "    </tr>\n",
       "    <tr>\n",
       "      <th>6</th>\n",
       "      <td>4/26/2024</td>\n",
       "      <td>10.80</td>\n",
       "      <td>Point Of Sale Withdrawal TST* FAMOUS ORI 713 E...</td>\n",
       "    </tr>\n",
       "    <tr>\n",
       "      <th>7</th>\n",
       "      <td>4/26/2024</td>\n",
       "      <td>60.00</td>\n",
       "      <td>External Withdrawal PAYPAL INSTANT TRANSFER - ...</td>\n",
       "    </tr>\n",
       "  </tbody>\n",
       "</table>\n",
       "</div>"
      ],
      "text/plain": [
       "   Post Date  Debit                                        Description\n",
       "3  4/27/2024   2.70  Point Of Sale Withdrawal MASABI_RTD 1600 Blake...\n",
       "4  4/27/2024  19.24  Point Of Sale Withdrawal SQ *CURTIS PARK 2532 ...\n",
       "5  4/27/2024   2.75  Point Of Sale Withdrawal SQ *CURTIS PARK 2532 ...\n",
       "6  4/26/2024  10.80  Point Of Sale Withdrawal TST* FAMOUS ORI 713 E...\n",
       "7  4/26/2024  60.00  External Withdrawal PAYPAL INSTANT TRANSFER - ..."
      ]
     },
     "execution_count": 5,
     "metadata": {},
     "output_type": "execute_result"
    }
   ],
   "source": [
    "# keep only the desired columns\n",
    "data = df[['Post Date', 'Debit', 'Description']]\n",
    "print('Data shape:', data.shape)\n",
    "data.head()"
   ]
  },
  {
   "cell_type": "code",
   "execution_count": 6,
   "metadata": {},
   "outputs": [
    {
     "name": "stderr",
     "output_type": "stream",
     "text": [
      "/var/folders/kd/x3brfgln0ng5q695bs9wjnkc0000gn/T/ipykernel_18875/1454478724.py:2: SettingWithCopyWarning: \n",
      "A value is trying to be set on a copy of a slice from a DataFrame.\n",
      "Try using .loc[row_indexer,col_indexer] = value instead\n",
      "\n",
      "See the caveats in the documentation: https://pandas.pydata.org/pandas-docs/stable/user_guide/indexing.html#returning-a-view-versus-a-copy\n",
      "  data['Date'] = data['Post Date'].astype('datetime64')\n"
     ]
    },
    {
     "data": {
      "text/html": [
       "<div>\n",
       "<style scoped>\n",
       "    .dataframe tbody tr th:only-of-type {\n",
       "        vertical-align: middle;\n",
       "    }\n",
       "\n",
       "    .dataframe tbody tr th {\n",
       "        vertical-align: top;\n",
       "    }\n",
       "\n",
       "    .dataframe thead th {\n",
       "        text-align: right;\n",
       "    }\n",
       "</style>\n",
       "<table border=\"1\" class=\"dataframe\">\n",
       "  <thead>\n",
       "    <tr style=\"text-align: right;\">\n",
       "      <th></th>\n",
       "      <th>Post Date</th>\n",
       "      <th>Debit</th>\n",
       "      <th>Description</th>\n",
       "      <th>Date</th>\n",
       "    </tr>\n",
       "  </thead>\n",
       "  <tbody>\n",
       "    <tr>\n",
       "      <th>3</th>\n",
       "      <td>4/27/2024</td>\n",
       "      <td>2.70</td>\n",
       "      <td>Point Of Sale Withdrawal MASABI_RTD 1600 Blake...</td>\n",
       "      <td>2024-04-27</td>\n",
       "    </tr>\n",
       "    <tr>\n",
       "      <th>4</th>\n",
       "      <td>4/27/2024</td>\n",
       "      <td>19.24</td>\n",
       "      <td>Point Of Sale Withdrawal SQ *CURTIS PARK 2532 ...</td>\n",
       "      <td>2024-04-27</td>\n",
       "    </tr>\n",
       "    <tr>\n",
       "      <th>5</th>\n",
       "      <td>4/27/2024</td>\n",
       "      <td>2.75</td>\n",
       "      <td>Point Of Sale Withdrawal SQ *CURTIS PARK 2532 ...</td>\n",
       "      <td>2024-04-27</td>\n",
       "    </tr>\n",
       "    <tr>\n",
       "      <th>6</th>\n",
       "      <td>4/26/2024</td>\n",
       "      <td>10.80</td>\n",
       "      <td>Point Of Sale Withdrawal TST* FAMOUS ORI 713 E...</td>\n",
       "      <td>2024-04-26</td>\n",
       "    </tr>\n",
       "    <tr>\n",
       "      <th>7</th>\n",
       "      <td>4/26/2024</td>\n",
       "      <td>60.00</td>\n",
       "      <td>External Withdrawal PAYPAL INSTANT TRANSFER - ...</td>\n",
       "      <td>2024-04-26</td>\n",
       "    </tr>\n",
       "    <tr>\n",
       "      <th>...</th>\n",
       "      <td>...</td>\n",
       "      <td>...</td>\n",
       "      <td>...</td>\n",
       "      <td>...</td>\n",
       "    </tr>\n",
       "    <tr>\n",
       "      <th>3502</th>\n",
       "      <td>5/24/2018</td>\n",
       "      <td>7.35</td>\n",
       "      <td>Point Of Sale Withdrawal DEBIT PURCHASE   CHIC...</td>\n",
       "      <td>2018-05-24</td>\n",
       "    </tr>\n",
       "    <tr>\n",
       "      <th>3503</th>\n",
       "      <td>5/22/2018</td>\n",
       "      <td>45.25</td>\n",
       "      <td>Point Of Sale Withdrawal POS PURCHASE   CORNER...</td>\n",
       "      <td>2018-05-22</td>\n",
       "    </tr>\n",
       "    <tr>\n",
       "      <th>3504</th>\n",
       "      <td>5/17/2018</td>\n",
       "      <td>45.66</td>\n",
       "      <td>External Withdrawal ANYTIME FIT ABC/CLUB FEES/...</td>\n",
       "      <td>2018-05-17</td>\n",
       "    </tr>\n",
       "    <tr>\n",
       "      <th>3505</th>\n",
       "      <td>5/8/2018</td>\n",
       "      <td>9.47</td>\n",
       "      <td>Point Of Sale Withdrawal DEBIT PURCHASE   CHIP...</td>\n",
       "      <td>2018-05-08</td>\n",
       "    </tr>\n",
       "    <tr>\n",
       "      <th>3506</th>\n",
       "      <td>5/7/2018</td>\n",
       "      <td>10.00</td>\n",
       "      <td>Point Of Sale Withdrawal DEBIT PURCHASE   JUNG...</td>\n",
       "      <td>2018-05-07</td>\n",
       "    </tr>\n",
       "  </tbody>\n",
       "</table>\n",
       "<p>2726 rows × 4 columns</p>\n",
       "</div>"
      ],
      "text/plain": [
       "      Post Date  Debit                                        Description  \\\n",
       "3     4/27/2024   2.70  Point Of Sale Withdrawal MASABI_RTD 1600 Blake...   \n",
       "4     4/27/2024  19.24  Point Of Sale Withdrawal SQ *CURTIS PARK 2532 ...   \n",
       "5     4/27/2024   2.75  Point Of Sale Withdrawal SQ *CURTIS PARK 2532 ...   \n",
       "6     4/26/2024  10.80  Point Of Sale Withdrawal TST* FAMOUS ORI 713 E...   \n",
       "7     4/26/2024  60.00  External Withdrawal PAYPAL INSTANT TRANSFER - ...   \n",
       "...         ...    ...                                                ...   \n",
       "3502  5/24/2018   7.35  Point Of Sale Withdrawal DEBIT PURCHASE   CHIC...   \n",
       "3503  5/22/2018  45.25  Point Of Sale Withdrawal POS PURCHASE   CORNER...   \n",
       "3504  5/17/2018  45.66  External Withdrawal ANYTIME FIT ABC/CLUB FEES/...   \n",
       "3505   5/8/2018   9.47  Point Of Sale Withdrawal DEBIT PURCHASE   CHIP...   \n",
       "3506   5/7/2018  10.00  Point Of Sale Withdrawal DEBIT PURCHASE   JUNG...   \n",
       "\n",
       "           Date  \n",
       "3    2024-04-27  \n",
       "4    2024-04-27  \n",
       "5    2024-04-27  \n",
       "6    2024-04-26  \n",
       "7    2024-04-26  \n",
       "...         ...  \n",
       "3502 2018-05-24  \n",
       "3503 2018-05-22  \n",
       "3504 2018-05-17  \n",
       "3505 2018-05-08  \n",
       "3506 2018-05-07  \n",
       "\n",
       "[2726 rows x 4 columns]"
      ]
     },
     "execution_count": 6,
     "metadata": {},
     "output_type": "execute_result"
    }
   ],
   "source": [
    "# convert the 'Post Date' column to datetime\n",
    "data['Date'] = data['Post Date'].astype('datetime64')\n",
    "data"
   ]
  },
  {
   "cell_type": "code",
   "execution_count": 7,
   "metadata": {},
   "outputs": [],
   "source": [
    "# fill in dates without expenses as 0\n",
    "data = data.set_index('Date').resample('D').sum().fillna(0)"
   ]
  },
  {
   "cell_type": "code",
   "execution_count": 8,
   "metadata": {},
   "outputs": [
    {
     "name": "stdout",
     "output_type": "stream",
     "text": [
      "Data shape: (2183, 1)\n",
      "Date range: May 07, 2018 to April 27, 2024\n"
     ]
    }
   ],
   "source": [
    "# Print the shape one last time and the date range encomapssed by the data as a Month, Day, Year\n",
    "print('Data shape:', data.shape)\n",
    "date_range = data.index[[0, -1]]\n",
    "print('Date range:', date_range[0].strftime('%B %d, %Y'), 'to', date_range[1].strftime('%B %d, %Y'))"
   ]
  },
  {
   "cell_type": "code",
   "execution_count": 9,
   "metadata": {},
   "outputs": [],
   "source": [
    "data.to_csv('data/transactions.csv', index=False)"
   ]
  },
  {
   "cell_type": "markdown",
   "metadata": {},
   "source": [
    "# Pre Processing"
   ]
  },
  {
   "cell_type": "code",
   "execution_count": 10,
   "metadata": {},
   "outputs": [
    {
     "name": "stderr",
     "output_type": "stream",
     "text": [
      "<frozen importlib._bootstrap>:219: RuntimeWarning: scipy._lib.messagestream.MessageStream size changed, may indicate binary incompatibility. Expected 56 from C header, got 64 from PyObject\n"
     ]
    },
    {
     "name": "stdout",
     "output_type": "stream",
     "text": [
      "(2183, 1)\n"
     ]
    },
    {
     "data": {
      "text/html": [
       "<div>\n",
       "<style scoped>\n",
       "    .dataframe tbody tr th:only-of-type {\n",
       "        vertical-align: middle;\n",
       "    }\n",
       "\n",
       "    .dataframe tbody tr th {\n",
       "        vertical-align: top;\n",
       "    }\n",
       "\n",
       "    .dataframe thead th {\n",
       "        text-align: right;\n",
       "    }\n",
       "</style>\n",
       "<table border=\"1\" class=\"dataframe\">\n",
       "  <thead>\n",
       "    <tr style=\"text-align: right;\">\n",
       "      <th></th>\n",
       "      <th>Debit</th>\n",
       "    </tr>\n",
       "  </thead>\n",
       "  <tbody>\n",
       "    <tr>\n",
       "      <th>0</th>\n",
       "      <td>10.00</td>\n",
       "    </tr>\n",
       "    <tr>\n",
       "      <th>1</th>\n",
       "      <td>9.47</td>\n",
       "    </tr>\n",
       "    <tr>\n",
       "      <th>2</th>\n",
       "      <td>0.00</td>\n",
       "    </tr>\n",
       "    <tr>\n",
       "      <th>3</th>\n",
       "      <td>0.00</td>\n",
       "    </tr>\n",
       "    <tr>\n",
       "      <th>4</th>\n",
       "      <td>0.00</td>\n",
       "    </tr>\n",
       "  </tbody>\n",
       "</table>\n",
       "</div>"
      ],
      "text/plain": [
       "   Debit\n",
       "0  10.00\n",
       "1   9.47\n",
       "2   0.00\n",
       "3   0.00\n",
       "4   0.00"
      ]
     },
     "execution_count": 10,
     "metadata": {},
     "output_type": "execute_result"
    }
   ],
   "source": [
    "from sklearn.preprocessing import MinMaxScaler\n",
    "df = pd.read_csv('data/transactions.csv')\n",
    "print(df.shape)\n",
    "df.head()"
   ]
  },
  {
   "cell_type": "code",
   "execution_count": 53,
   "metadata": {},
   "outputs": [
    {
     "data": {
      "text/html": [
       "<div>\n",
       "<style scoped>\n",
       "    .dataframe tbody tr th:only-of-type {\n",
       "        vertical-align: middle;\n",
       "    }\n",
       "\n",
       "    .dataframe tbody tr th {\n",
       "        vertical-align: top;\n",
       "    }\n",
       "\n",
       "    .dataframe thead th {\n",
       "        text-align: right;\n",
       "    }\n",
       "</style>\n",
       "<table border=\"1\" class=\"dataframe\">\n",
       "  <thead>\n",
       "    <tr style=\"text-align: right;\">\n",
       "      <th></th>\n",
       "      <th>Debit</th>\n",
       "      <th>norm_Debit</th>\n",
       "    </tr>\n",
       "  </thead>\n",
       "  <tbody>\n",
       "    <tr>\n",
       "      <th>0</th>\n",
       "      <td>10.00</td>\n",
       "      <td>0.000294</td>\n",
       "    </tr>\n",
       "    <tr>\n",
       "      <th>1</th>\n",
       "      <td>9.47</td>\n",
       "      <td>0.000278</td>\n",
       "    </tr>\n",
       "    <tr>\n",
       "      <th>2</th>\n",
       "      <td>0.00</td>\n",
       "      <td>0.000000</td>\n",
       "    </tr>\n",
       "    <tr>\n",
       "      <th>3</th>\n",
       "      <td>0.00</td>\n",
       "      <td>0.000000</td>\n",
       "    </tr>\n",
       "    <tr>\n",
       "      <th>4</th>\n",
       "      <td>0.00</td>\n",
       "      <td>0.000000</td>\n",
       "    </tr>\n",
       "  </tbody>\n",
       "</table>\n",
       "</div>"
      ],
      "text/plain": [
       "   Debit  norm_Debit\n",
       "0  10.00    0.000294\n",
       "1   9.47    0.000278\n",
       "2   0.00    0.000000\n",
       "3   0.00    0.000000\n",
       "4   0.00    0.000000"
      ]
     },
     "execution_count": 53,
     "metadata": {},
     "output_type": "execute_result"
    }
   ],
   "source": [
    "# Normalize the data\n",
    "scaler = MinMaxScaler(feature_range=(0, 1))\n",
    "df['norm_Debit'] = scaler.fit_transform(df['Debit'].values.reshape(-1,1))\n",
    "df.head()"
   ]
  },
  {
   "cell_type": "code",
   "execution_count": 54,
   "metadata": {},
   "outputs": [],
   "source": [
    "# Transform the data into sequences\n",
    "sequence_length = 32\n",
    "result = []\n",
    "for index in range(len(df) - sequence_length+1):\n",
    "    result.append(df['norm_Debit'].values[index: index + sequence_length])\n",
    "\n",
    "result = np.array(result)"
   ]
  },
  {
   "cell_type": "code",
   "execution_count": 55,
   "metadata": {},
   "outputs": [
    {
     "name": "stdout",
     "output_type": "stream",
     "text": [
      "(1937, 31) (1937,) (215, 31) (215,)\n"
     ]
    }
   ],
   "source": [
    "# Split the data into training and testing sets\n",
    "train_size = round(0.9 * result.shape[0])  # 90% for training\n",
    "x_train = result[:int(train_size), :-1]\n",
    "y_train = result[:int(train_size), -1]\n",
    "x_test = result[int(train_size):, :-1]\n",
    "y_test = result[int(train_size):, -1]\n",
    "print(x_train.shape, y_train.shape, x_test.shape, y_test.shape)"
   ]
  },
  {
   "cell_type": "code",
   "execution_count": 56,
   "metadata": {},
   "outputs": [],
   "source": [
    "# Save the training data\n",
    "np.save('data/x_train.npy', x_train)\n",
    "np.save('data/y_train.npy', y_train)\n",
    "\n",
    "# Save the testing data\n",
    "np.save('data/x_test.npy', x_test)\n",
    "np.save('data/y_test.npy', y_test)"
   ]
  },
  {
   "cell_type": "markdown",
   "metadata": {},
   "source": [
    "# Model Building"
   ]
  },
  {
   "cell_type": "code",
   "execution_count": 57,
   "metadata": {},
   "outputs": [],
   "source": [
    "# Define the model architecture\n",
    "from tensorflow.keras.models import Sequential\n",
    "from tensorflow.keras.layers import LSTM, Dense, Dropout\n"
   ]
  },
  {
   "cell_type": "code",
   "execution_count": null,
   "metadata": {},
   "outputs": [],
   "source": [
    "\n",
    "\n",
    "model = Sequential()\n",
    "model.add(LSTM(100, activation='tanh', return_sequences=True, input_shape=(378, 1)))\n",
    "model.add(Dropout(0.2))\n",
    "model.add(LSTM(100, activation='tanh'))\n",
    "model.add(Dropout(0.2))\n",
    "model.add(Dense(3, activation='tanh'))"
   ]
  },
  {
   "cell_type": "code",
   "execution_count": 72,
   "metadata": {},
   "outputs": [],
   "source": [
    "# Define a simple model\n",
    "model = Sequential()\n",
    "model.add(LSTM(100, activation='tanh', return_sequences=True, input_shape=(32, 1)))\n",
    "model.add(Dropout(0.2))\n",
    "model.add(Dense(1, activation='tanh'))\n"
   ]
  },
  {
   "cell_type": "code",
   "execution_count": 59,
   "metadata": {},
   "outputs": [],
   "source": [
    "# Compile the model\n",
    "from tensorflow.keras.optimizers import Adam, SGD\n",
    "adam = Adam(learning_rate=0.001)\n",
    "sgd = SGD(learning_rate=1.0)\n",
    "\n",
    "model.compile(optimizer=sgd, loss='mean_absolute_error')"
   ]
  },
  {
   "cell_type": "code",
   "execution_count": 60,
   "metadata": {},
   "outputs": [
    {
     "name": "stdout",
     "output_type": "stream",
     "text": [
      "Model: \"sequential_4\"\n",
      "_________________________________________________________________\n",
      "Layer (type)                 Output Shape              Param #   \n",
      "=================================================================\n",
      "lstm_6 (LSTM)                (None, 32, 30)            3840      \n",
      "_________________________________________________________________\n",
      "dropout_6 (Dropout)          (None, 32, 30)            0         \n",
      "_________________________________________________________________\n",
      "dense_4 (Dense)              (None, 32, 1)             31        \n",
      "=================================================================\n",
      "Total params: 3,871\n",
      "Trainable params: 3,871\n",
      "Non-trainable params: 0\n",
      "_________________________________________________________________\n"
     ]
    }
   ],
   "source": [
    "# Print the model summary\n",
    "model.summary()"
   ]
  },
  {
   "cell_type": "code",
   "execution_count": null,
   "metadata": {},
   "outputs": [],
   "source": []
  },
  {
   "cell_type": "markdown",
   "metadata": {},
   "source": [
    "# Model training"
   ]
  },
  {
   "cell_type": "code",
   "execution_count": 61,
   "metadata": {},
   "outputs": [
    {
     "name": "stdout",
     "output_type": "stream",
     "text": [
      "(1937, 31, 1) (1937, 1) (215, 31, 1) (215, 1)\n"
     ]
    }
   ],
   "source": [
    "# Load the training and testing data\n",
    "x_train = np.load('data/x_train.npy')\n",
    "x_train = np.expand_dims(x_train, axis=2)\n",
    "y_train = np.load('data/y_train.npy')\n",
    "y_train = np.expand_dims(y_train, axis=1)\n",
    "\n",
    "# Load the testing data\n",
    "x_test = np.load('data/x_test.npy')\n",
    "y_test = np.load('data/y_test.npy')\n",
    "x_test = np.expand_dims(x_test, axis=2)\n",
    "y_test = np.expand_dims(y_test, axis=1)\n",
    "print(x_train.shape, y_train.shape, x_test.shape, y_test.shape)"
   ]
  },
  {
   "cell_type": "code",
   "execution_count": 62,
   "metadata": {},
   "outputs": [
    {
     "name": "stdout",
     "output_type": "stream",
     "text": [
      "Epoch 1/10\n",
      "WARNING:tensorflow:Model was constructed with shape (None, 32, 1) for input KerasTensor(type_spec=TensorSpec(shape=(None, 32, 1), dtype=tf.float32, name='lstm_6_input'), name='lstm_6_input', description=\"created by layer 'lstm_6_input'\"), but it was called on an input with incompatible shape (None, 31, 1).\n",
      "WARNING:tensorflow:Model was constructed with shape (None, 32, 1) for input KerasTensor(type_spec=TensorSpec(shape=(None, 32, 1), dtype=tf.float32, name='lstm_6_input'), name='lstm_6_input', description=\"created by layer 'lstm_6_input'\"), but it was called on an input with incompatible shape (None, 31, 1).\n",
      "27/28 [===========================>..] - ETA: 0s - loss: 0.3975WARNING:tensorflow:Model was constructed with shape (None, 32, 1) for input KerasTensor(type_spec=TensorSpec(shape=(None, 32, 1), dtype=tf.float32, name='lstm_6_input'), name='lstm_6_input', description=\"created by layer 'lstm_6_input'\"), but it was called on an input with incompatible shape (None, 31, 1).\n",
      "28/28 [==============================] - 2s 26ms/step - loss: 0.4000 - val_loss: 0.1957\n",
      "Epoch 2/10\n",
      "28/28 [==============================] - 0s 11ms/step - loss: 0.3922 - val_loss: 0.3241\n",
      "Epoch 3/10\n",
      "28/28 [==============================] - 0s 11ms/step - loss: 0.4020 - val_loss: 0.2073\n",
      "Epoch 4/10\n",
      "28/28 [==============================] - 0s 10ms/step - loss: 0.3914 - val_loss: 0.2092\n",
      "Epoch 5/10\n",
      "28/28 [==============================] - 0s 13ms/step - loss: 0.4000 - val_loss: 0.3325\n",
      "Epoch 6/10\n",
      "28/28 [==============================] - 0s 15ms/step - loss: 0.4000 - val_loss: 0.2811\n",
      "Epoch 7/10\n",
      "28/28 [==============================] - 0s 11ms/step - loss: 0.4003 - val_loss: 0.2257\n",
      "Epoch 8/10\n",
      "28/28 [==============================] - 0s 11ms/step - loss: 0.3971 - val_loss: 0.7367\n",
      "Epoch 9/10\n",
      "28/28 [==============================] - 0s 11ms/step - loss: 0.4508 - val_loss: 0.2804\n",
      "Epoch 10/10\n",
      "28/28 [==============================] - 0s 14ms/step - loss: 0.3993 - val_loss: 0.1012\n"
     ]
    }
   ],
   "source": [
    "# Reshape input to be 3D [samples, timesteps, features]\n",
    "# x_train = x_train.reshape((x_train.shape[0], x_train.shape[1], 1))\n",
    "\n",
    "# Fit the model\n",
    "history = model.fit(\n",
    "    x_train, y_train,\n",
    "    epochs=10,  # adjust this value based on your requirements\n",
    "    batch_size=64,  # adjust this value based on your requirements\n",
    "    # validation_split=0.1,  # 10% of the data will be used for validation\n",
    "    shuffle=False,\n",
    ")"
   ]
  },
  {
   "cell_type": "code",
   "execution_count": 63,
   "metadata": {},
   "outputs": [
    {
     "data": {
      "text/html": [
       "\n",
       "<div id=\"altair-viz-cb1a2aa9b2df42608eb918b4f02072f8\"></div>\n",
       "<script type=\"text/javascript\">\n",
       "  (function(spec, embedOpt){\n",
       "    let outputDiv = document.currentScript.previousElementSibling;\n",
       "    if (outputDiv.id !== \"altair-viz-cb1a2aa9b2df42608eb918b4f02072f8\") {\n",
       "      outputDiv = document.getElementById(\"altair-viz-cb1a2aa9b2df42608eb918b4f02072f8\");\n",
       "    }\n",
       "    const paths = {\n",
       "      \"vega\": \"https://cdn.jsdelivr.net/npm//vega@5?noext\",\n",
       "      \"vega-lib\": \"https://cdn.jsdelivr.net/npm//vega-lib?noext\",\n",
       "      \"vega-lite\": \"https://cdn.jsdelivr.net/npm//vega-lite@4.8.1?noext\",\n",
       "      \"vega-embed\": \"https://cdn.jsdelivr.net/npm//vega-embed@6?noext\",\n",
       "    };\n",
       "\n",
       "    function loadScript(lib) {\n",
       "      return new Promise(function(resolve, reject) {\n",
       "        var s = document.createElement('script');\n",
       "        s.src = paths[lib];\n",
       "        s.async = true;\n",
       "        s.onload = () => resolve(paths[lib]);\n",
       "        s.onerror = () => reject(`Error loading script: ${paths[lib]}`);\n",
       "        document.getElementsByTagName(\"head\")[0].appendChild(s);\n",
       "      });\n",
       "    }\n",
       "\n",
       "    function showError(err) {\n",
       "      outputDiv.innerHTML = `<div class=\"error\" style=\"color:red;\">${err}</div>`;\n",
       "      throw err;\n",
       "    }\n",
       "\n",
       "    function displayChart(vegaEmbed) {\n",
       "      vegaEmbed(outputDiv, spec, embedOpt)\n",
       "        .catch(err => showError(`Javascript Error: ${err.message}<br>This usually means there's a typo in your chart specification. See the javascript console for the full traceback.`));\n",
       "    }\n",
       "\n",
       "    if(typeof define === \"function\" && define.amd) {\n",
       "      requirejs.config({paths});\n",
       "      require([\"vega-embed\"], displayChart, err => showError(`Error loading script: ${err.message}`));\n",
       "    } else if (typeof vegaEmbed === \"function\") {\n",
       "      displayChart(vegaEmbed);\n",
       "    } else {\n",
       "      loadScript(\"vega\")\n",
       "        .then(() => loadScript(\"vega-lite\"))\n",
       "        .then(() => loadScript(\"vega-embed\"))\n",
       "        .catch(showError)\n",
       "        .then(() => displayChart(vegaEmbed));\n",
       "    }\n",
       "  })({\"config\": {\"view\": {\"continuousWidth\": 400, \"continuousHeight\": 300}}, \"data\": {\"name\": \"data-3b6faaa365b4349e202189bbd70683de\"}, \"mark\": \"line\", \"encoding\": {\"color\": {\"type\": \"nominal\", \"field\": \"Type\"}, \"x\": {\"type\": \"quantitative\", \"field\": \"Epoch\"}, \"y\": {\"type\": \"quantitative\", \"field\": \"Loss\"}}, \"selection\": {\"selector004\": {\"type\": \"interval\", \"bind\": \"scales\", \"encodings\": [\"x\", \"y\"]}}, \"$schema\": \"https://vega.github.io/schema/vega-lite/v4.8.1.json\", \"datasets\": {\"data-3b6faaa365b4349e202189bbd70683de\": [{\"Epoch\": 1, \"Loss\": 0.434221088886261, \"Type\": \"Training Loss\"}, {\"Epoch\": 2, \"Loss\": 0.3982975482940674, \"Type\": \"Training Loss\"}, {\"Epoch\": 3, \"Loss\": 0.4106118381023407, \"Type\": \"Training Loss\"}, {\"Epoch\": 4, \"Loss\": 0.3972105383872986, \"Type\": \"Training Loss\"}, {\"Epoch\": 5, \"Loss\": 0.40483373403549194, \"Type\": \"Training Loss\"}, {\"Epoch\": 6, \"Loss\": 0.40042099356651306, \"Type\": \"Training Loss\"}, {\"Epoch\": 7, \"Loss\": 0.4161790609359741, \"Type\": \"Training Loss\"}, {\"Epoch\": 8, \"Loss\": 0.40632057189941406, \"Type\": \"Training Loss\"}, {\"Epoch\": 9, \"Loss\": 0.4044186770915985, \"Type\": \"Training Loss\"}, {\"Epoch\": 10, \"Loss\": 0.40932077169418335, \"Type\": \"Training Loss\"}, {\"Epoch\": 1, \"Loss\": 0.19570855796337128, \"Type\": \"Validation Loss\"}, {\"Epoch\": 2, \"Loss\": 0.3240636885166168, \"Type\": \"Validation Loss\"}, {\"Epoch\": 3, \"Loss\": 0.20727631449699402, \"Type\": \"Validation Loss\"}, {\"Epoch\": 4, \"Loss\": 0.2091834545135498, \"Type\": \"Validation Loss\"}, {\"Epoch\": 5, \"Loss\": 0.33250972628593445, \"Type\": \"Validation Loss\"}, {\"Epoch\": 6, \"Loss\": 0.2811081111431122, \"Type\": \"Validation Loss\"}, {\"Epoch\": 7, \"Loss\": 0.22571082413196564, \"Type\": \"Validation Loss\"}, {\"Epoch\": 8, \"Loss\": 0.7367321848869324, \"Type\": \"Validation Loss\"}, {\"Epoch\": 9, \"Loss\": 0.2803788185119629, \"Type\": \"Validation Loss\"}, {\"Epoch\": 10, \"Loss\": 0.10119190067052841, \"Type\": \"Validation Loss\"}]}}, {\"mode\": \"vega-lite\"});\n",
       "</script>"
      ],
      "text/plain": [
       "alt.Chart(...)"
      ]
     },
     "execution_count": 63,
     "metadata": {},
     "output_type": "execute_result"
    }
   ],
   "source": [
    "import altair as alt\n",
    "# Prepare the data for plotting\n",
    "# Prepare the data for plotting\n",
    "data = pd.DataFrame({\n",
    "    'Epoch': list(range(1, len(history.history['loss']) + 1)) * 2,\n",
    "    'Loss': history.history['loss'] + history.history['val_loss'],\n",
    "    'Type': ['Training Loss'] * len(history.history['loss']) + ['Validation Loss'] * len(history.history['val_loss'])\n",
    "})\n",
    "\n",
    "# Plot the loss\n",
    "alt.Chart(data).mark_line().encode(\n",
    "    x='Epoch',\n",
    "    y='Loss',\n",
    "    color='Type'\n",
    ").interactive()"
   ]
  },
  {
   "cell_type": "code",
   "execution_count": 71,
   "metadata": {},
   "outputs": [
    {
     "data": {
      "text/plain": [
       "(215, 31, 1)"
      ]
     },
     "execution_count": 71,
     "metadata": {},
     "output_type": "execute_result"
    }
   ],
   "source": [
    "# predict the next 30 days of expenses\n",
    "predictions = model.predict(x_test)\n",
    "predictions.shape"
   ]
  },
  {
   "cell_type": "code",
   "execution_count": 68,
   "metadata": {},
   "outputs": [
    {
     "ename": "ValueError",
     "evalue": "Found array with dim 3. Estimator expected <= 2.",
     "output_type": "error",
     "traceback": [
      "\u001b[0;31m---------------------------------------------------------------------------\u001b[0m",
      "\u001b[0;31mValueError\u001b[0m                                Traceback (most recent call last)",
      "\u001b[0;32m/var/folders/kd/x3brfgln0ng5q695bs9wjnkc0000gn/T/ipykernel_18875/1998282508.py\u001b[0m in \u001b[0;36m<module>\u001b[0;34m\u001b[0m\n\u001b[0;32m----> 1\u001b[0;31m \u001b[0mdaily_expenses\u001b[0m \u001b[0;34m=\u001b[0m \u001b[0mscaler\u001b[0m\u001b[0;34m.\u001b[0m\u001b[0minverse_transform\u001b[0m\u001b[0;34m(\u001b[0m\u001b[0mpredictions\u001b[0m\u001b[0;34m)\u001b[0m\u001b[0;34m\u001b[0m\u001b[0;34m\u001b[0m\u001b[0m\n\u001b[0m",
      "\u001b[0;32m~/opt/anaconda3/envs/DS/lib/python3.8/site-packages/sklearn/preprocessing/_data.py\u001b[0m in \u001b[0;36minverse_transform\u001b[0;34m(self, X)\u001b[0m\n\u001b[1;32m    456\u001b[0m         \u001b[0mcheck_is_fitted\u001b[0m\u001b[0;34m(\u001b[0m\u001b[0mself\u001b[0m\u001b[0;34m)\u001b[0m\u001b[0;34m\u001b[0m\u001b[0;34m\u001b[0m\u001b[0m\n\u001b[1;32m    457\u001b[0m \u001b[0;34m\u001b[0m\u001b[0m\n\u001b[0;32m--> 458\u001b[0;31m         X = check_array(X, copy=self.copy, dtype=FLOAT_DTYPES,\n\u001b[0m\u001b[1;32m    459\u001b[0m                         force_all_finite=\"allow-nan\")\n\u001b[1;32m    460\u001b[0m \u001b[0;34m\u001b[0m\u001b[0m\n",
      "\u001b[0;32m~/opt/anaconda3/envs/DS/lib/python3.8/site-packages/sklearn/utils/validation.py\u001b[0m in \u001b[0;36minner_f\u001b[0;34m(*args, **kwargs)\u001b[0m\n\u001b[1;32m     61\u001b[0m             \u001b[0mextra_args\u001b[0m \u001b[0;34m=\u001b[0m \u001b[0mlen\u001b[0m\u001b[0;34m(\u001b[0m\u001b[0margs\u001b[0m\u001b[0;34m)\u001b[0m \u001b[0;34m-\u001b[0m \u001b[0mlen\u001b[0m\u001b[0;34m(\u001b[0m\u001b[0mall_args\u001b[0m\u001b[0;34m)\u001b[0m\u001b[0;34m\u001b[0m\u001b[0;34m\u001b[0m\u001b[0m\n\u001b[1;32m     62\u001b[0m             \u001b[0;32mif\u001b[0m \u001b[0mextra_args\u001b[0m \u001b[0;34m<=\u001b[0m \u001b[0;36m0\u001b[0m\u001b[0;34m:\u001b[0m\u001b[0;34m\u001b[0m\u001b[0;34m\u001b[0m\u001b[0m\n\u001b[0;32m---> 63\u001b[0;31m                 \u001b[0;32mreturn\u001b[0m \u001b[0mf\u001b[0m\u001b[0;34m(\u001b[0m\u001b[0;34m*\u001b[0m\u001b[0margs\u001b[0m\u001b[0;34m,\u001b[0m \u001b[0;34m**\u001b[0m\u001b[0mkwargs\u001b[0m\u001b[0;34m)\u001b[0m\u001b[0;34m\u001b[0m\u001b[0;34m\u001b[0m\u001b[0m\n\u001b[0m\u001b[1;32m     64\u001b[0m \u001b[0;34m\u001b[0m\u001b[0m\n\u001b[1;32m     65\u001b[0m             \u001b[0;31m# extra_args > 0\u001b[0m\u001b[0;34m\u001b[0m\u001b[0;34m\u001b[0m\u001b[0;34m\u001b[0m\u001b[0m\n",
      "\u001b[0;32m~/opt/anaconda3/envs/DS/lib/python3.8/site-packages/sklearn/utils/validation.py\u001b[0m in \u001b[0;36mcheck_array\u001b[0;34m(array, accept_sparse, accept_large_sparse, dtype, order, copy, force_all_finite, ensure_2d, allow_nd, ensure_min_samples, ensure_min_features, estimator)\u001b[0m\n\u001b[1;32m    714\u001b[0m                     \"into decimal numbers with dtype='numeric'\") from e\n\u001b[1;32m    715\u001b[0m         \u001b[0;32mif\u001b[0m \u001b[0;32mnot\u001b[0m \u001b[0mallow_nd\u001b[0m \u001b[0;32mand\u001b[0m \u001b[0marray\u001b[0m\u001b[0;34m.\u001b[0m\u001b[0mndim\u001b[0m \u001b[0;34m>=\u001b[0m \u001b[0;36m3\u001b[0m\u001b[0;34m:\u001b[0m\u001b[0;34m\u001b[0m\u001b[0;34m\u001b[0m\u001b[0m\n\u001b[0;32m--> 716\u001b[0;31m             raise ValueError(\"Found array with dim %d. %s expected <= 2.\"\n\u001b[0m\u001b[1;32m    717\u001b[0m                              % (array.ndim, estimator_name))\n\u001b[1;32m    718\u001b[0m \u001b[0;34m\u001b[0m\u001b[0m\n",
      "\u001b[0;31mValueError\u001b[0m: Found array with dim 3. Estimator expected <= 2."
     ]
    }
   ],
   "source": [
    "daily_expenses = scaler.inverse_transform(predictions)"
   ]
  },
  {
   "cell_type": "code",
   "execution_count": 69,
   "metadata": {},
   "outputs": [
    {
     "data": {
      "text/plain": [
       "array([[240.96193, 236.17885, 234.8663 ],\n",
       "       [242.8327 , 237.788  , 236.63513],\n",
       "       [242.82092, 238.23582, 237.01141],\n",
       "       [241.92282, 237.9731 , 236.61967],\n",
       "       [240.44524, 237.17888, 235.68271],\n",
       "       [257.52563, 247.2765 , 248.33508],\n",
       "       [265.4116 , 253.35785, 255.34375],\n",
       "       [267.01282, 255.85667, 257.83545],\n",
       "       [267.29526, 257.10712, 259.06323],\n",
       "       [264.51462, 256.13367, 257.80264],\n",
       "       [262.2694 , 254.98935, 256.60733],\n",
       "       [258.4059 , 252.63959, 254.05357],\n",
       "       [257.11545, 251.55542, 253.1687 ],\n",
       "       [254.12115, 249.52213, 251.03955],\n",
       "       [250.38853, 246.96274, 248.23195],\n",
       "       [247.74956, 244.93825, 246.07341],\n",
       "       [245.20152, 242.98914, 243.93372],\n",
       "       [243.75539, 241.71698, 242.55417],\n",
       "       [241.63885, 240.14633, 240.7026 ],\n",
       "       [240.12012, 238.93079, 239.23958],\n",
       "       [239.92497, 238.53995, 238.74579],\n",
       "       [238.80798, 237.72623, 237.64944],\n",
       "       [238.46701, 237.36523, 237.10002],\n",
       "       [238.03806, 236.99817, 236.52258],\n",
       "       [236.96063, 236.25916, 235.48325],\n",
       "       [235.61314, 235.30524, 234.21211],\n",
       "       [234.51631, 234.43636, 233.08783],\n",
       "       [233.35748, 233.50728, 231.91164],\n",
       "       [232.25905, 232.5918 , 230.7698 ],\n",
       "       [231.28511, 231.73836, 229.71515],\n",
       "       [230.46211, 230.97513, 228.77518],\n",
       "       [229.79375, 230.31471, 227.9593 ],\n",
       "       [229.87645, 230.11824, 227.71013],\n",
       "       [229.7736 , 229.883  , 227.3847 ],\n",
       "       [231.62933, 230.83948, 228.522  ],\n",
       "       [232.39818, 231.3271 , 229.01244],\n",
       "       [232.80553, 231.62027, 229.26122],\n",
       "       [232.69962, 231.5858 , 229.13472],\n",
       "       [232.32198, 231.33289, 228.78395],\n",
       "       [231.82544, 230.95267, 228.3196 ],\n",
       "       [231.30287, 230.51514, 227.81589],\n",
       "       [231.39874, 230.42055, 227.75375],\n",
       "       [231.24171, 230.21571, 227.54025],\n",
       "       [231.90991, 230.5086 , 227.93568],\n",
       "       [232.0382 , 230.55537, 227.99391],\n",
       "       [231.90384, 230.4501 , 227.85988],\n",
       "       [231.63577, 230.24574, 227.61378],\n",
       "       [232.39119, 230.62756, 228.10431],\n",
       "       [232.54152, 230.72281, 228.21196],\n",
       "       [232.34639, 230.61122, 228.06334],\n",
       "       [232.36049, 230.59326, 228.04694],\n",
       "       [232.10593, 230.41502, 227.83646],\n",
       "       [231.72177, 230.13936, 227.51546],\n",
       "       [234.53014, 231.73859, 229.52184],\n",
       "       [235.7416 , 232.6413 , 230.55959],\n",
       "       [235.90097, 232.94785, 230.84248],\n",
       "       [235.46613, 232.82549, 230.63916],\n",
       "       [234.73225, 232.42842, 230.15332],\n",
       "       [234.34998, 232.15732, 229.86949],\n",
       "       [234.38564, 232.11603, 229.88141],\n",
       "       [234.33858, 232.05283, 229.85068],\n",
       "       [233.89441, 231.7662 , 229.53102],\n",
       "       [235.31108, 232.56064, 230.55122],\n",
       "       [235.60486, 232.82698, 230.85434],\n",
       "       [235.25346, 232.70584, 230.6721 ],\n",
       "       [235.065  , 232.62122, 230.56282],\n",
       "       [234.48521, 232.2795 , 230.15027],\n",
       "       [233.72998, 231.78741, 229.57195],\n",
       "       [233.9435 , 231.82794, 229.6691 ],\n",
       "       [233.66681, 231.63199, 229.44682],\n",
       "       [233.13875, 231.28183, 229.02806],\n",
       "       [232.5114 , 230.84682, 228.5111 ],\n",
       "       [231.87639, 230.38225, 227.96465],\n",
       "       [231.28516, 229.92723, 227.4326 ],\n",
       "       [232.2191 , 230.37167, 228.00899],\n",
       "       [235.09657, 232.09293, 230.10692],\n",
       "       [236.2185 , 233.0087 , 231.10114],\n",
       "       [236.28535, 233.29733, 231.3201 ],\n",
       "       [235.76375, 233.14037, 231.0476 ],\n",
       "       [235.03915, 232.75288, 230.55794],\n",
       "       [234.16704, 232.19421, 229.90768],\n",
       "       [233.88107, 231.92313, 229.64496],\n",
       "       [234.42041, 232.15657, 229.99843],\n",
       "       [234.28955, 232.07214, 229.91707],\n",
       "       [233.79675, 231.76846, 229.5567 ],\n",
       "       [233.51492, 231.55536, 229.31902],\n",
       "       [232.99655, 231.1975 , 228.9011 ],\n",
       "       [233.31334, 231.31432, 229.074  ],\n",
       "       [233.14264, 231.19707, 228.92989],\n",
       "       [232.7151 , 230.92241, 228.58696],\n",
       "       [232.1784 , 230.55595, 228.14061],\n",
       "       [231.62198, 230.15158, 227.65764],\n",
       "       [231.97607, 230.26999, 227.82661],\n",
       "       [232.01395, 230.26459, 227.8129 ],\n",
       "       [231.7925 , 230.11945, 227.61531],\n",
       "       [231.44586, 229.88486, 227.31355],\n",
       "       [231.05733, 229.60414, 226.96562],\n",
       "       [231.32413, 229.69583, 227.08629],\n",
       "       [231.28773, 229.65096, 227.02065],\n",
       "       [231.0876 , 229.51157, 226.8354 ],\n",
       "       [230.81349, 229.31458, 226.58633],\n",
       "       [230.52019, 229.09102, 226.31303],\n",
       "       [287.84293, 263.3078 , 268.96985],\n",
       "       [315.583  , 284.68668, 293.09546],\n",
       "       [324.57053, 295.3847 , 303.8492 ],\n",
       "       [322.4088 , 298.05627, 305.6136 ],\n",
       "       [314.9239 , 295.75052, 302.39612],\n",
       "       [304.20728, 289.99857, 295.86758],\n",
       "       [292.45416, 282.484  , 287.80096],\n",
       "       [280.8827 , 274.3497 , 279.28268],\n",
       "       [270.81927, 266.73608, 271.45294],\n",
       "       [261.69568, 259.6186 , 264.064  ],\n",
       "       [253.74907, 253.26723, 257.35492],\n",
       "       [247.03964, 247.79828, 251.43217],\n",
       "       [263.37537, 256.24017, 262.4715 ],\n",
       "       [269.45914, 260.60406, 267.31644],\n",
       "       [271.15775, 262.74432, 269.10034],\n",
       "       [268.56458, 262.1268 , 267.56888],\n",
       "       [263.9109 , 259.7607 , 264.17563],\n",
       "       [258.34164, 256.3335 , 259.781  ],\n",
       "       [252.77556, 252.50618, 255.12866],\n",
       "       [247.90599, 248.84387, 250.81622],\n",
       "       [243.45053, 245.33276, 246.72607],\n",
       "       [239.52702, 242.11256, 242.97714],\n",
       "       [236.90486, 239.68965, 240.16382],\n",
       "       [234.51918, 237.52307, 237.5757 ],\n",
       "       [232.4642 , 235.63596, 235.25914],\n",
       "       [230.76971, 234.0298 , 233.23512],\n",
       "       [230.0177 , 233.04326, 231.93735],\n",
       "       [229.83229, 232.49776, 231.13681],\n",
       "       [229.73695, 232.10837, 230.49026],\n",
       "       [229.42929, 231.65436, 229.75293],\n",
       "       [229.04884, 231.16946, 228.99629],\n",
       "       [228.67625, 230.68434, 228.27174],\n",
       "       [230.41273, 231.44702, 229.12213],\n",
       "       [231.1465 , 231.78441, 229.40369],\n",
       "       [231.28427, 231.793  , 229.29128],\n",
       "       [231.44493, 231.77797, 229.1974 ],\n",
       "       [231.26698, 231.54207, 228.8704 ],\n",
       "       [230.92351, 231.17189, 228.41766],\n",
       "       [230.52138, 230.73555, 227.91621],\n",
       "       [232.14366, 231.48349, 228.89925],\n",
       "       [232.86115, 231.85622, 229.3572 ],\n",
       "       [232.9219 , 231.87213, 229.36021],\n",
       "       [232.61995, 231.63893, 229.07841],\n",
       "       [232.14293, 231.25421, 228.63982],\n",
       "       [233.28934, 231.79483, 229.36856],\n",
       "       [233.57068, 231.93718, 229.55885],\n",
       "       [252.30576, 243.07411, 243.36914],\n",
       "       [260.94595, 249.74547, 250.9468 ],\n",
       "       [263.4239 , 252.8823 , 254.09596],\n",
       "       [262.1995 , 253.34607, 254.24257],\n",
       "       [258.99457, 252.0282 , 252.56346],\n",
       "       [254.90413, 249.66017, 249.8983 ],\n",
       "       [250.60071, 246.79091, 246.81221],\n",
       "       [246.47673, 243.8023 , 243.6648 ],\n",
       "       [243.24669, 241.24022, 241.04024],\n",
       "       [240.32066, 238.88246, 238.58438],\n",
       "       [237.69325, 236.75096, 236.30246],\n",
       "       [235.42792, 234.89061, 234.25029],\n",
       "       [233.75308, 233.44263, 232.60997],\n",
       "       [232.32121, 232.21988, 231.15482],\n",
       "       [231.956  , 231.69302, 230.48824],\n",
       "       [231.40472, 231.17235, 229.75024],\n",
       "       [230.85336, 230.69904, 229.03387],\n",
       "       [232.99379, 231.84258, 230.30704],\n",
       "       [234.67973, 232.9406 , 231.43724],\n",
       "       [235.10724, 233.38734, 231.7331 ],\n",
       "       [234.8147 , 233.34976, 231.48318],\n",
       "       [241.37395, 237.28352, 236.22888],\n",
       "       [257.45068, 247.38812, 248.45299],\n",
       "       [264.41882, 253.18892, 254.8556 ],\n",
       "       [265.73795, 255.55717, 257.09036],\n",
       "       [263.85507, 255.4752 , 256.65106],\n",
       "       [260.12387, 253.69069, 254.4866 ],\n",
       "       [255.61905, 250.93651, 251.42305],\n",
       "       [251.43272, 248.0157 , 248.33426],\n",
       "       [253.55759, 248.67743, 249.73366],\n",
       "       [252.72964, 248.02399, 249.24992],\n",
       "       [250.58427, 246.63266, 247.751  ],\n",
       "       [249.69337, 245.8975 , 247.0482 ]], dtype=float32)"
      ]
     },
     "execution_count": 69,
     "metadata": {},
     "output_type": "execute_result"
    }
   ],
   "source": [
    "daily_expenses"
   ]
  },
  {
   "cell_type": "code",
   "execution_count": null,
   "metadata": {},
   "outputs": [],
   "source": []
  }
 ],
 "metadata": {
  "kernelspec": {
   "display_name": "Python 3",
   "language": "python",
   "name": "python3"
  },
  "language_info": {
   "codemirror_mode": {
    "name": "ipython",
    "version": 3
   },
   "file_extension": ".py",
   "mimetype": "text/x-python",
   "name": "python",
   "nbconvert_exporter": "python",
   "pygments_lexer": "ipython3",
   "version": "3.8.11"
  }
 },
 "nbformat": 4,
 "nbformat_minor": 2
}
